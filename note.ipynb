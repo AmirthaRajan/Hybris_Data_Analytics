{
 "metadata": {
  "language_info": {
   "codemirror_mode": {
    "name": "ipython",
    "version": 3
   },
   "file_extension": ".py",
   "mimetype": "text/x-python",
   "name": "python",
   "nbconvert_exporter": "python",
   "pygments_lexer": "ipython3",
   "version": "3.8.5-final"
  },
  "orig_nbformat": 2,
  "kernelspec": {
   "name": "Python 3.8.5 64-bit ('hybrisflask': conda)",
   "display_name": "Python 3.8.5 64-bit ('hybrisflask': conda)",
   "metadata": {
    "interpreter": {
     "hash": "b7791043cccd1c69564b94815d896bf26f587d259b732183035a68a4dd620c91"
    }
   }
  }
 },
 "nbformat": 4,
 "nbformat_minor": 2,
 "cells": [
  {
   "cell_type": "code",
   "execution_count": 2,
   "metadata": {},
   "outputs": [],
   "source": [
    "import calendar\n"
   ]
  },
  {
   "cell_type": "code",
   "execution_count": 14,
   "metadata": {},
   "outputs": [
    {
     "output_type": "execute_result",
     "data": {
      "text/plain": "[&#39;Jan&#39;,\n &#39;Feb&#39;,\n &#39;Mar&#39;,\n &#39;Apr&#39;,\n &#39;May&#39;,\n &#39;Jun&#39;,\n &#39;Jul&#39;,\n &#39;Aug&#39;,\n &#39;Sep&#39;,\n &#39;Oct&#39;,\n &#39;Nov&#39;,\n &#39;Dec&#39;]"
     },
     "metadata": {},
     "execution_count": 14
    }
   ],
   "source": [
    "list(calendar.month_abbr)[1:]"
   ]
  },
  {
   "cell_type": "code",
   "execution_count": null,
   "metadata": {},
   "outputs": [],
   "source": []
  }
 ]
}